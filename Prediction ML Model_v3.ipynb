{
 "cells": [
  {
   "cell_type": "code",
   "execution_count": 1,
   "metadata": {},
   "outputs": [],
   "source": [
    "import numpy as np\n",
    "from sklearn.model_selection import GridSearchCV, RandomizedSearchCV\n",
    "from sklearn.calibration import CalibratedClassifierCV, calibration_curve\n",
    "from sklearn.preprocessing import normalize, MinMaxScaler\n",
    "from matplotlib import pyplot\n",
    "import warnings\n",
    "warnings.filterwarnings('ignore')\n",
    "warnings.simplefilter('ignore')"
   ]
  },
  {
   "cell_type": "code",
   "execution_count": 2,
   "metadata": {},
   "outputs": [],
   "source": [
    "# Loading data from NPY files\n",
    "X_train = np.load('X_train.npy')\n",
    "y_train = np.load('y_train.npy')\n",
    "X_test = np.load('X_test.npy')\n",
    "y_test = np.load('y_test.npy')\n",
    "X_train_raw = np.load('X_train_raw.npy')\n",
    "X_test_raw = np.load('X_test_raw.npy')"
   ]
  },
  {
   "cell_type": "markdown",
   "metadata": {},
   "source": [
    "## Model Evaluation"
   ]
  },
  {
   "cell_type": "code",
   "execution_count": 3,
   "metadata": {},
   "outputs": [],
   "source": [
    "# First column represents whether patient is male\n",
    "m_index = np.where(X_test_raw[:, 0] == 1)\n",
    "# Second column represents whether patient has scholarship \n",
    "scholarship_index = np.where(X_test_raw[:, 2] == 1)\n",
    "\n",
    "# Divide into separate testing sets \n",
    "y_test_male = np.squeeze(np.take(y_test, m_index))\n",
    "y_test_female = np.delete(y_test, m_index)\n",
    "y_test_scholarship = np.squeeze(np.take(y_test, scholarship_index))\n",
    "y_test_noscholarship = np.delete(y_test, scholarship_index)\n",
    "y_test_list = [y_test, y_test_male, y_test_female, y_test_scholarship, y_test_noscholarship]"
   ]
  },
  {
   "cell_type": "code",
   "execution_count": 4,
   "metadata": {},
   "outputs": [
    {
     "name": "stdout",
     "output_type": "stream",
     "text": [
      "22105\n",
      "22105\n",
      "22105\n"
     ]
    }
   ],
   "source": [
    "# Check that no data points were lost\n",
    "print(len(y_test_male) + len(y_test_female))\n",
    "print(len(y_test_scholarship) + len(y_test_noscholarship))\n",
    "print(len(y_test))"
   ]
  },
  {
   "cell_type": "code",
   "execution_count": 5,
   "metadata": {},
   "outputs": [],
   "source": [
    "from sklearn.metrics import accuracy_score, recall_score, precision_score, confusion_matrix, roc_auc_score, brier_score_loss\n",
    "evaluation_stats = {}\n",
    "\n",
    "# Helper function for displaying model evaluation metrics\n",
    "def evaluate(y_pred, probs, model_name, print_toggle):\n",
    "    # split predictions into 4 categories \n",
    "    y_pred_male = np.squeeze(np.take(y_pred, m_index))\n",
    "    y_pred_female = np.delete(y_pred, m_index)\n",
    "    y_pred_scholarship = np.squeeze(np.take(y_pred, scholarship_index))\n",
    "    y_pred_noscholarship = np.delete(y_pred, scholarship_index)\n",
    "    y_pred_list = [y_pred, y_pred_male, y_pred_female, y_pred_scholarship, y_pred_noscholarship]\n",
    "    \n",
    "    probs_male = np.squeeze(np.take(probs, m_index))\n",
    "    probs_female = np.delete(probs, m_index)\n",
    "    probs_scholarship = np.squeeze(np.take(probs, scholarship_index))\n",
    "    probs_noscholarship = np.delete(probs, scholarship_index)\n",
    "    probs_list = [probs, probs_male, probs_female, probs_scholarship, probs_noscholarship]\n",
    "    \n",
    "    \n",
    "    # Organization of evaluation stats: \n",
    "    '''\n",
    "    1. Whole: accuracy, recall, precision, false negative, false positive, positive, AUC, Brier \n",
    "    2. Male: accuracy, recall, precision, false negative, false positive, positive, AUC, Brier\n",
    "    3. Female: accuracy, recall, precision, false negative, false positive, positive, AUC, Brier \n",
    "    4. Scholarship: accuracy, recall, precision, false negative, false positive, positive, AUC, Brier \n",
    "    5. No Scholarship: accuracy, recall, precision, false negative, false positive, positive, AUC, Brier \n",
    "    '''\n",
    "    group_names = [\"Overall\", \"Male\", \"Female\", \"Scholarship\", \"No Scholarship\"]\n",
    "    evaluation_stats[model_name] = {}\n",
    "    \n",
    "    for i in range(len(y_pred_list)):\n",
    "        # convert from Boolean to 0 and 1 \n",
    "        if (y_pred_list[i].dtype == bool):\n",
    "            y_pred_list[i] = [1 if p == True else 0 for p in y_pred_list[i]]\n",
    "        \n",
    "        group = []\n",
    "        \n",
    "        # accuracy\n",
    "        accuracy = accuracy_score(y_test_list[i], y_pred_list[i])\n",
    "        group.append(accuracy)\n",
    "        \n",
    "        # recall\n",
    "        recall = recall_score(y_test_list[i], y_pred_list[i])\n",
    "        group.append(recall)\n",
    "        \n",
    "        # precision \n",
    "        precision = precision_score(y_test_list[i], y_pred_list[i])\n",
    "        group.append(precision)\n",
    "        \n",
    "        # false negative and false positive \n",
    "        tn, fp, fn, tp = confusion_matrix(y_test_list[i], y_pred_list[i]).ravel()\n",
    "        fnr = fn / len(y_test_list[i])\n",
    "        group.append(fnr)\n",
    "        fpr = fp / len(y_test_list[i])\n",
    "        group.append(fpr)\n",
    "        pos = (tp + fp) / len(y_test_list[i])\n",
    "        group.append(pos)\n",
    "        \n",
    "        # AUC \n",
    "        auc = roc_auc_score(y_test_list[i], probs_list[i])\n",
    "        group.append(auc)\n",
    "        \n",
    "        # Brier score \n",
    "        b_score = brier_score_loss(y_test_list[i], probs_list[i])\n",
    "        group.append(b_score)\n",
    "        \n",
    "        evaluation_stats[model_name][group_names[i]] = group\n",
    "        if(print_toggle):\n",
    "            print(group_names[i])\n",
    "            print(\"Accuracy: \\t\", accuracy)\n",
    "            print(\"Recall: \\t\", recall)\n",
    "            print(\"Precision: \\t\", precision)\n",
    "            print(\"False Negative Rate: \\t\", fnr)\n",
    "            print(\"False Positive Rate: \\t\", fpr)\n",
    "            print(\"Positive Rate: \\t\", pos)\n",
    "            print(\"AUC: \\t\", auc)\n",
    "            print(\"Brier Score: \\t\", b_score)\n",
    "            print()"
   ]
  },
  {
   "cell_type": "markdown",
   "metadata": {},
   "source": [
    "## Linear Models"
   ]
  },
  {
   "cell_type": "code",
   "execution_count": 6,
   "metadata": {},
   "outputs": [],
   "source": [
    "from sklearn import linear_model"
   ]
  },
  {
   "cell_type": "markdown",
   "metadata": {},
   "source": [
    "### OLS"
   ]
  },
  {
   "cell_type": "code",
   "execution_count": 7,
   "metadata": {},
   "outputs": [
    {
     "name": "stdout",
     "output_type": "stream",
     "text": [
      "{'fit_intercept': True, 'normalize': True}\n"
     ]
    },
    {
     "data": {
      "text/plain": [
       "0.7967880570006786"
      ]
     },
     "execution_count": 7,
     "metadata": {},
     "output_type": "execute_result"
    }
   ],
   "source": [
    "reg = linear_model.LinearRegression()\n",
    "distributions = dict(fit_intercept=[True], normalize=[True])\n",
    "clf = GridSearchCV(reg, distributions)\n",
    "search = clf.fit(X_train, y_train)\n",
    "print(search.best_params_)\n",
    "\n",
    "y_cal = search.predict(X_test)\n",
    "\n",
    "scaler = MinMaxScaler()\n",
    "y_cal = scaler.fit_transform(y_cal.reshape(-1, 1))\n",
    "\n",
    "y_pred = y_cal > 0.9\n",
    "accuracy_score(y_test, y_pred)"
   ]
  },
  {
   "cell_type": "code",
   "execution_count": 8,
   "metadata": {},
   "outputs": [
    {
     "name": "stdout",
     "output_type": "stream",
     "text": [
      "Overall\n",
      "Accuracy: \t 0.7967880570006786\n",
      "Recall: \t 0.00423634336677815\n",
      "Precision: \t 0.4222222222222222\n",
      "False Negative Rate: \t 0.20203573852069667\n",
      "False Positive Rate: \t 0.0011762044786247454\n",
      "Positive Rate: \t 0.002035738520696675\n",
      "AUC: \t 0.6724352267680007\n",
      "Brier Score: \t 0.18822714960825607\n",
      "\n",
      "Male\n",
      "Accuracy: \t 0.7984697185838413\n",
      "Recall: \t 0.001935483870967742\n",
      "Precision: \t 0.3\n",
      "False Negative Rate: \t 0.20062248735572558\n",
      "False Positive Rate: \t 0.0009077940604331475\n",
      "Positive Rate: \t 0.0012968486577616392\n",
      "AUC: \t 0.6683515453607762\n",
      "Brier Score: \t 0.18692359646514853\n",
      "\n",
      "Female\n",
      "Accuracy: \t 0.7958871752118939\n",
      "Recall: \t 0.00545144804088586\n",
      "Precision: \t 0.45714285714285713\n",
      "False Negative Rate: \t 0.2027928303459775\n",
      "False Positive Rate: \t 0.0013199944421286647\n",
      "Positive Rate: \t 0.0024315687091843825\n",
      "AUC: \t 0.6743972176635076\n",
      "Brier Score: \t 0.18892547518047378\n",
      "\n",
      "Scholarship\n",
      "Accuracy: \t 0.7603603603603604\n",
      "Recall: \t 0.007575757575757576\n",
      "Precision: \t 0.3333333333333333\n",
      "False Negative Rate: \t 0.23603603603603604\n",
      "False Positive Rate: \t 0.0036036036036036037\n",
      "Positive Rate: \t 0.005405405405405406\n",
      "AUC: \t 0.6784080834945196\n",
      "Brier Score: \t 0.21046085366347086\n",
      "\n",
      "No Scholarship\n",
      "Accuracy: \t 0.8008549157656525\n",
      "Recall: \t 0.0037907505686125853\n",
      "Precision: \t 0.45454545454545453\n",
      "False Negative Rate: \t 0.19823987930600956\n",
      "False Positive Rate: \t 0.0009052049283379431\n",
      "Positive Rate: \t 0.0016595423686195626\n",
      "AUC: \t 0.6709708234058571\n",
      "Brier Score: \t 0.18574493572831757\n",
      "\n"
     ]
    }
   ],
   "source": [
    "evaluate(y_pred, y_cal, \"OLS\", True)"
   ]
  },
  {
   "cell_type": "markdown",
   "metadata": {},
   "source": [
    "### Ridge Regression"
   ]
  },
  {
   "cell_type": "code",
   "execution_count": 9,
   "metadata": {},
   "outputs": [
    {
     "data": {
      "text/plain": [
       "0.7968332956344718"
      ]
     },
     "execution_count": 9,
     "metadata": {},
     "output_type": "execute_result"
    }
   ],
   "source": [
    "reg = linear_model.Ridge(alpha=0.5)\n",
    "reg.fit(X_train, y_train)\n",
    "y_cal = reg.predict(X_test)\n",
    "\n",
    "scaler = MinMaxScaler()\n",
    "y_cal = scaler.fit_transform(y_cal.reshape(-1, 1))\n",
    "\n",
    "y_pred = y_cal > 0.9\n",
    "accuracy_score(y_test, y_pred)"
   ]
  },
  {
   "cell_type": "code",
   "execution_count": 10,
   "metadata": {},
   "outputs": [
    {
     "name": "stdout",
     "output_type": "stream",
     "text": [
      "Overall\n",
      "Accuracy: \t 0.7968332956344718\n",
      "Recall: \t 0.00423634336677815\n",
      "Precision: \t 0.4318181818181818\n",
      "False Negative Rate: \t 0.20203573852069667\n",
      "False Positive Rate: \t 0.001130965844831486\n",
      "Positive Rate: \t 0.0019904998869034155\n",
      "AUC: \t 0.6723599790954082\n",
      "Brier Score: \t 0.1883123287585906\n",
      "\n",
      "Male\n",
      "Accuracy: \t 0.7984697185838413\n",
      "Recall: \t 0.001935483870967742\n",
      "Precision: \t 0.3\n",
      "False Negative Rate: \t 0.20062248735572558\n",
      "False Positive Rate: \t 0.0009077940604331475\n",
      "Positive Rate: \t 0.0012968486577616392\n",
      "AUC: \t 0.6682586614028934\n",
      "Brier Score: \t 0.18701267606435648\n",
      "\n",
      "Female\n",
      "Accuracy: \t 0.7959566486035848\n",
      "Recall: \t 0.00545144804088586\n",
      "Precision: \t 0.47058823529411764\n",
      "False Negative Rate: \t 0.2027928303459775\n",
      "False Positive Rate: \t 0.0012505210504376823\n",
      "Positive Rate: \t 0.0023620953174934\n",
      "AUC: \t 0.6743297524854556\n",
      "Brier Score: \t 0.18900856482398176\n",
      "\n",
      "Scholarship\n",
      "Accuracy: \t 0.7603603603603604\n",
      "Recall: \t 0.007575757575757576\n",
      "Precision: \t 0.3333333333333333\n",
      "False Negative Rate: \t 0.23603603603603604\n",
      "False Positive Rate: \t 0.0036036036036036037\n",
      "Positive Rate: \t 0.005405405405405406\n",
      "AUC: \t 0.6784147995916612\n",
      "Brier Score: \t 0.21053569268571626\n",
      "\n",
      "No Scholarship\n",
      "Accuracy: \t 0.8009052049283379\n",
      "Recall: \t 0.0037907505686125853\n",
      "Precision: \t 0.46875\n",
      "False Negative Rate: \t 0.19823987930600956\n",
      "False Positive Rate: \t 0.0008549157656525019\n",
      "Positive Rate: \t 0.0016092532059341213\n",
      "AUC: \t 0.6708894139752211\n",
      "Brier Score: \t 0.1858312692706239\n",
      "\n"
     ]
    }
   ],
   "source": [
    "evaluate(y_pred, y_cal, \"Ridge Regression\", True)"
   ]
  },
  {
   "cell_type": "markdown",
   "metadata": {},
   "source": [
    "### LASSO"
   ]
  },
  {
   "cell_type": "code",
   "execution_count": 11,
   "metadata": {},
   "outputs": [
    {
     "data": {
      "text/plain": [
       "0.7968332956344718"
      ]
     },
     "execution_count": 11,
     "metadata": {},
     "output_type": "execute_result"
    }
   ],
   "source": [
    "reg = linear_model.Lasso(alpha=0.1)\n",
    "reg.fit(X_train, y_train)\n",
    "y_cal = reg.predict(X_test)\n",
    "y_pred = y_pred > 0.9\n",
    "\n",
    "accuracy_score(y_test, y_pred)"
   ]
  },
  {
   "cell_type": "code",
   "execution_count": 12,
   "metadata": {},
   "outputs": [
    {
     "name": "stdout",
     "output_type": "stream",
     "text": [
      "Overall\n",
      "Accuracy: \t 0.7968332956344718\n",
      "Recall: \t 0.00423634336677815\n",
      "Precision: \t 0.4318181818181818\n",
      "False Negative Rate: \t 0.20203573852069667\n",
      "False Positive Rate: \t 0.001130965844831486\n",
      "Positive Rate: \t 0.0019904998869034155\n",
      "AUC: \t 0.5\n",
      "Brier Score: \t 0.16173033976265916\n",
      "\n",
      "Male\n",
      "Accuracy: \t 0.7984697185838413\n",
      "Recall: \t 0.001935483870967742\n",
      "Precision: \t 0.3\n",
      "False Negative Rate: \t 0.20062248735572558\n",
      "False Positive Rate: \t 0.0009077940604331475\n",
      "Positive Rate: \t 0.0012968486577616392\n",
      "AUC: \t 0.5\n",
      "Brier Score: \t 0.16060630543399013\n",
      "\n",
      "Female\n",
      "Accuracy: \t 0.7959566486035848\n",
      "Recall: \t 0.00545144804088586\n",
      "Precision: \t 0.47058823529411764\n",
      "False Negative Rate: \t 0.2027928303459775\n",
      "False Positive Rate: \t 0.0012505210504376823\n",
      "Positive Rate: \t 0.0023620953174934\n",
      "AUC: \t 0.5\n",
      "Brier Score: \t 0.16233249543226919\n",
      "\n",
      "Scholarship\n",
      "Accuracy: \t 0.7603603603603604\n",
      "Recall: \t 0.007575757575757576\n",
      "Precision: \t 0.3333333333333333\n",
      "False Negative Rate: \t 0.23603603603603604\n",
      "False Positive Rate: \t 0.0036036036036036037\n",
      "Positive Rate: \t 0.005405405405405406\n",
      "AUC: \t 0.5\n",
      "Brier Score: \t 0.18258079613810027\n",
      "\n",
      "No Scholarship\n",
      "Accuracy: \t 0.8009052049283379\n",
      "Recall: \t 0.0037907505686125853\n",
      "Precision: \t 0.46875\n",
      "False Negative Rate: \t 0.19823987930600956\n",
      "False Positive Rate: \t 0.0008549157656525019\n",
      "Positive Rate: \t 0.0016092532059341213\n",
      "AUC: \t 0.5\n",
      "Brier Score: \t 0.15940255433879802\n",
      "\n"
     ]
    }
   ],
   "source": [
    "evaluate(y_pred, y_cal, \"LASSO\", True)"
   ]
  },
  {
   "cell_type": "markdown",
   "metadata": {},
   "source": [
    "### Elastic Net"
   ]
  },
  {
   "cell_type": "code",
   "execution_count": 13,
   "metadata": {},
   "outputs": [
    {
     "data": {
      "text/plain": [
       "0.7968332956344718"
      ]
     },
     "execution_count": 13,
     "metadata": {},
     "output_type": "execute_result"
    }
   ],
   "source": [
    "reg = linear_model.ElasticNet()\n",
    "reg.fit(X_train, y_train)\n",
    "y_cal = reg.predict(X_test)\n",
    "y_pred = y_pred > 0.9\n",
    "\n",
    "accuracy_score(y_test, y_pred)"
   ]
  },
  {
   "cell_type": "code",
   "execution_count": 14,
   "metadata": {},
   "outputs": [
    {
     "name": "stdout",
     "output_type": "stream",
     "text": [
      "Overall\n",
      "Accuracy: \t 0.7968332956344718\n",
      "Recall: \t 0.00423634336677815\n",
      "Precision: \t 0.4318181818181818\n",
      "False Negative Rate: \t 0.20203573852069667\n",
      "False Positive Rate: \t 0.001130965844831486\n",
      "Positive Rate: \t 0.0019904998869034155\n",
      "AUC: \t 0.5\n",
      "Brier Score: \t 0.16173033976265916\n",
      "\n",
      "Male\n",
      "Accuracy: \t 0.7984697185838413\n",
      "Recall: \t 0.001935483870967742\n",
      "Precision: \t 0.3\n",
      "False Negative Rate: \t 0.20062248735572558\n",
      "False Positive Rate: \t 0.0009077940604331475\n",
      "Positive Rate: \t 0.0012968486577616392\n",
      "AUC: \t 0.5\n",
      "Brier Score: \t 0.16060630543399013\n",
      "\n",
      "Female\n",
      "Accuracy: \t 0.7959566486035848\n",
      "Recall: \t 0.00545144804088586\n",
      "Precision: \t 0.47058823529411764\n",
      "False Negative Rate: \t 0.2027928303459775\n",
      "False Positive Rate: \t 0.0012505210504376823\n",
      "Positive Rate: \t 0.0023620953174934\n",
      "AUC: \t 0.5\n",
      "Brier Score: \t 0.16233249543226919\n",
      "\n",
      "Scholarship\n",
      "Accuracy: \t 0.7603603603603604\n",
      "Recall: \t 0.007575757575757576\n",
      "Precision: \t 0.3333333333333333\n",
      "False Negative Rate: \t 0.23603603603603604\n",
      "False Positive Rate: \t 0.0036036036036036037\n",
      "Positive Rate: \t 0.005405405405405406\n",
      "AUC: \t 0.5\n",
      "Brier Score: \t 0.18258079613810027\n",
      "\n",
      "No Scholarship\n",
      "Accuracy: \t 0.8009052049283379\n",
      "Recall: \t 0.0037907505686125853\n",
      "Precision: \t 0.46875\n",
      "False Negative Rate: \t 0.19823987930600956\n",
      "False Positive Rate: \t 0.0008549157656525019\n",
      "Positive Rate: \t 0.0016092532059341213\n",
      "AUC: \t 0.5\n",
      "Brier Score: \t 0.15940255433879802\n",
      "\n"
     ]
    }
   ],
   "source": [
    "evaluate(y_pred, y_cal, \"Elastic Net\", True)"
   ]
  },
  {
   "cell_type": "markdown",
   "metadata": {},
   "source": [
    "### Bayesian"
   ]
  },
  {
   "cell_type": "code",
   "execution_count": 15,
   "metadata": {},
   "outputs": [
    {
     "data": {
      "text/plain": [
       "0.7962904320289528"
      ]
     },
     "execution_count": 15,
     "metadata": {},
     "output_type": "execute_result"
    }
   ],
   "source": [
    "reg = linear_model.BayesianRidge()\n",
    "reg.fit(X_train, y_train)\n",
    "y_cal = reg.predict(X_test)\n",
    "\n",
    "scaler = MinMaxScaler()\n",
    "y_cal = scaler.fit_transform(y_cal.reshape(-1, 1))\n",
    "\n",
    "y_pred = y_cal > 0.9\n",
    "\n",
    "accuracy_score(y_test, y_pred)"
   ]
  },
  {
   "cell_type": "code",
   "execution_count": 16,
   "metadata": {},
   "outputs": [
    {
     "name": "stdout",
     "output_type": "stream",
     "text": [
      "Overall\n",
      "Accuracy: \t 0.7962904320289528\n",
      "Recall: \t 0.004459308807134894\n",
      "Precision: \t 0.3448275862068966\n",
      "False Negative Rate: \t 0.2019904998869034\n",
      "False Positive Rate: \t 0.0017190680841438588\n",
      "Positive Rate: \t 0.0026238407600090476\n",
      "AUC: \t 0.6722022835609175\n",
      "Brier Score: \t 0.1904590270344852\n",
      "\n",
      "Male\n",
      "Accuracy: \t 0.7976916093891843\n",
      "Recall: \t 0.001935483870967742\n",
      "Precision: \t 0.1875\n",
      "False Negative Rate: \t 0.20062248735572558\n",
      "False Positive Rate: \t 0.001685903255090131\n",
      "Positive Rate: \t 0.0020749578524186228\n",
      "AUC: \t 0.6679170746265531\n",
      "Brier Score: \t 0.1891130584595787\n",
      "\n",
      "Female\n",
      "Accuracy: \t 0.795539808253439\n",
      "Recall: \t 0.005792163543441226\n",
      "Precision: \t 0.40476190476190477\n",
      "False Negative Rate: \t 0.2027233569542865\n",
      "False Positive Rate: \t 0.001736834792274559\n",
      "Positive Rate: \t 0.0029178824510212586\n",
      "AUC: \t 0.674248490990693\n",
      "Brier Score: \t 0.19118007494897066\n",
      "\n",
      "Scholarship\n",
      "Accuracy: \t 0.7603603603603604\n",
      "Recall: \t 0.007575757575757576\n",
      "Precision: \t 0.3333333333333333\n",
      "False Negative Rate: \t 0.23603603603603604\n",
      "False Positive Rate: \t 0.0036036036036036037\n",
      "Positive Rate: \t 0.005405405405405406\n",
      "AUC: \t 0.6778685570241422\n",
      "Brier Score: \t 0.21323391537604666\n",
      "\n",
      "No Scholarship\n",
      "Accuracy: \t 0.8003017349761127\n",
      "Recall: \t 0.004043467273186757\n",
      "Precision: \t 0.34782608695652173\n",
      "False Negative Rate: \t 0.1981895901433241\n",
      "False Positive Rate: \t 0.0015086748805632386\n",
      "Positive Rate: \t 0.0023133014835302994\n",
      "AUC: \t 0.6707658798050921\n",
      "Brier Score: \t 0.18791639429029278\n",
      "\n"
     ]
    }
   ],
   "source": [
    "evaluate(y_pred, y_cal, \"Bayesian Ridge\", True)"
   ]
  },
  {
   "cell_type": "markdown",
   "metadata": {},
   "source": [
    "### Logistic"
   ]
  },
  {
   "cell_type": "code",
   "execution_count": 17,
   "metadata": {},
   "outputs": [
    {
     "data": {
      "text/plain": [
       "0.7936665912689437"
      ]
     },
     "execution_count": 17,
     "metadata": {},
     "output_type": "execute_result"
    }
   ],
   "source": [
    "clf = linear_model.LogisticRegression(random_state=0).fit(X_train, y_train)\n",
    "\n",
    "y_pred = clf.predict(X_test)\n",
    "accuracy_score(y_test, y_pred)"
   ]
  },
  {
   "cell_type": "code",
   "execution_count": 18,
   "metadata": {
    "scrolled": true
   },
   "outputs": [],
   "source": [
    "# uncalibrated \n",
    "y_uncal = clf.predict_proba(X_test)[:, 1]\n",
    "# calibrated \n",
    "calibrator = CalibratedClassifierCV(clf, cv = 3)\n",
    "calibrator.fit(X_test, y_test)\n",
    "y_cal = calibrator.predict_proba(X_test)[:, 1]"
   ]
  },
  {
   "cell_type": "code",
   "execution_count": 19,
   "metadata": {},
   "outputs": [
    {
     "data": {
      "image/png": "[encoded data removed]",
      "text/plain": [
       "<Figure size 432x288 with 1 Axes>"
      ]
     },
     "metadata": {},
     "output_type": "display_data"
    }
   ],
   "source": [
    "# Plot calibrated results \n",
    "fop_uncalibrated, mpv_uncalibrated = calibration_curve(y_test, y_uncal, n_bins=10, normalize=True)\n",
    "fop_calibrated, mpv_calibrated = calibration_curve(y_test, y_cal, n_bins=10)\n",
    "# plot perfectly calibrated\n",
    "pyplot.plot([0, 1], [0, 1], linestyle='--', color='black')\n",
    "# plot model reliabilities\n",
    "pyplot.plot(mpv_uncalibrated, fop_uncalibrated, marker='.')\n",
    "pyplot.plot(mpv_calibrated, fop_calibrated, marker='.')\n",
    "pyplot.show()"
   ]
  },
  {
   "cell_type": "code",
   "execution_count": 20,
   "metadata": {},
   "outputs": [
    {
     "name": "stdout",
     "output_type": "stream",
     "text": [
      "Overall\n",
      "Accuracy: \t 0.7936665912689437\n",
      "Recall: \t 0.020289855072463767\n",
      "Precision: \t 0.35271317829457366\n",
      "False Negative Rate: \t 0.198778556887582\n",
      "False Positive Rate: \t 0.007554851843474327\n",
      "Positive Rate: \t 0.011671567518660936\n",
      "AUC: \t 0.6775423944362404\n",
      "Brier Score: \t 0.1524647942519026\n",
      "\n",
      "Male\n",
      "Accuracy: \t 0.7960057061340942\n",
      "Recall: \t 0.016129032258064516\n",
      "Precision: \t 0.3424657534246575\n",
      "False Negative Rate: \t 0.19776942030864997\n",
      "False Positive Rate: \t 0.006224873557255868\n",
      "Positive Rate: \t 0.009466995201659967\n",
      "AUC: \t 0.6791451429648518\n",
      "Brier Score: \t 0.15115797623045435\n",
      "\n",
      "Female\n",
      "Accuracy: \t 0.7924135056273447\n",
      "Recall: \t 0.022487223168654175\n",
      "Precision: \t 0.3567567567567568\n",
      "False Negative Rate: \t 0.19931916076142836\n",
      "False Positive Rate: \t 0.0082673336112269\n",
      "Positive Rate: \t 0.012852577462831735\n",
      "AUC: \t 0.6766216953324296\n",
      "Brier Score: \t 0.15316486884988695\n",
      "\n",
      "Scholarship\n",
      "Accuracy: \t 0.7567567567567568\n",
      "Recall: \t 0.030303030303030304\n",
      "Precision: \t 0.36363636363636365\n",
      "False Negative Rate: \t 0.23063063063063063\n",
      "False Positive Rate: \t 0.012612612612612612\n",
      "Positive Rate: \t 0.01981981981981982\n",
      "AUC: \t 0.684778301633355\n",
      "Brier Score: \t 0.16955031793937056\n",
      "\n",
      "No Scholarship\n",
      "Accuracy: \t 0.7977872768418406\n",
      "Recall: \t 0.018953752843062926\n",
      "Precision: \t 0.35046728971962615\n",
      "False Negative Rate: \t 0.1952225295448831\n",
      "False Positive Rate: \t 0.006990193613276339\n",
      "Positive Rate: \t 0.010761880814684436\n",
      "AUC: \t 0.6759227729610134\n",
      "Brier Score: \t 0.15055733322166984\n",
      "\n"
     ]
    }
   ],
   "source": [
    "evaluate(y_pred, y_cal, \"Logistic\", True)"
   ]
  },
  {
   "cell_type": "markdown",
   "metadata": {},
   "source": [
    "## SVM"
   ]
  },
  {
   "cell_type": "code",
   "execution_count": 21,
   "metadata": {},
   "outputs": [
    {
     "name": "stdout",
     "output_type": "stream",
     "text": [
      "{'C': 100, 'degree': 2, 'kernel': 'rbf', 'max_iter': 10, 'probability': True, 'shrinking': True}\n"
     ]
    },
    {
     "data": {
      "text/plain": [
       "0.7961999547613662"
      ]
     },
     "execution_count": 21,
     "metadata": {},
     "output_type": "execute_result"
    }
   ],
   "source": [
    "from sklearn.svm import SVC\n",
    "svm = SVC()\n",
    "distributions = dict(C = [100], \n",
    "                     kernel = [\"rbf\"], \n",
    "                     max_iter = [10], \n",
    "                     degree = [2], \n",
    "                     #gamma = [\"scale\", \"auto\"], \n",
    "                     shrinking = [True], \n",
    "                     probability = [True])\n",
    "clf = GridSearchCV(svm, distributions)\n",
    "search = clf.fit(X_train, y_train)\n",
    "print(search.best_params_)\n",
    "\n",
    "y_pred = search.predict(X_test)\n",
    "accuracy_score(y_test, y_pred)"
   ]
  },
  {
   "cell_type": "code",
   "execution_count": 22,
   "metadata": {},
   "outputs": [],
   "source": [
    "# uncalibrated \n",
    "y_uncal = search.predict_proba(X_test)[:, 1]\n",
    "# calibrated \n",
    "calibrator = CalibratedClassifierCV(search, cv = 3)\n",
    "calibrator.fit(X_test, y_test)\n",
    "y_cal = calibrator.predict_proba(X_test)[:, 1]"
   ]
  },
  {
   "cell_type": "code",
   "execution_count": 23,
   "metadata": {},
   "outputs": [
    {
     "name": "stdout",
     "output_type": "stream",
     "text": [
      "Overall\n",
      "Accuracy: \t 0.7961999547613662\n",
      "Recall: \t 0.0006688963210702341\n",
      "Precision: \t 0.11538461538461539\n",
      "False Negative Rate: \t 0.2027595566613888\n",
      "False Positive Rate: \t 0.001040488577244967\n",
      "Positive Rate: \t 0.0011762044786247454\n",
      "AUC: \t 0.5812167623950183\n",
      "Brier Score: \t 0.16080207608070418\n",
      "\n",
      "Male\n",
      "Accuracy: \t 0.7988587731811697\n",
      "Recall: \t 0.0006451612903225806\n",
      "Precision: \t 0.3333333333333333\n",
      "False Negative Rate: \t 0.2008818570872779\n",
      "False Positive Rate: \t 0.00025936973155232785\n",
      "Positive Rate: \t 0.00038905459732849174\n",
      "AUC: \t 0.6001246655601573\n",
      "Brier Score: \t 0.15965902948057165\n",
      "\n",
      "Female\n",
      "Accuracy: \t 0.7947756009448381\n",
      "Recall: \t 0.0006814310051107325\n",
      "Precision: \t 0.08695652173913043\n",
      "False Negative Rate: \t 0.20376545782965125\n",
      "False Positive Rate: \t 0.0014589412255106293\n",
      "Positive Rate: \t 0.0015978880088925941\n",
      "AUC: \t 0.580097311606315\n",
      "Brier Score: \t 0.16141441680139487\n",
      "\n",
      "Scholarship\n",
      "Accuracy: \t 0.7617117117117117\n",
      "Recall: \t 0.0\n",
      "Precision: \t 0.0\n",
      "False Negative Rate: \t 0.23783783783783785\n",
      "False Positive Rate: \t 0.00045045045045045046\n",
      "Positive Rate: \t 0.00045045045045045046\n",
      "AUC: \t 0.5764017614084103\n",
      "Brier Score: \t 0.18170756867896654\n",
      "\n",
      "No Scholarship\n",
      "Accuracy: \t 0.8000502891626854\n",
      "Recall: \t 0.000758150113722517\n",
      "Precision: \t 0.12\n",
      "False Negative Rate: \t 0.19884334925823485\n",
      "False Positive Rate: \t 0.0011063615790797084\n",
      "Positive Rate: \t 0.001257229067136032\n",
      "AUC: \t 0.5820473546805964\n",
      "Brier Score: \t 0.15846814630609304\n",
      "\n"
     ]
    }
   ],
   "source": [
    "evaluate(y_pred, y_cal, \"SVM\", True)"
   ]
  },
  {
   "cell_type": "markdown",
   "metadata": {},
   "source": [
    "## SGD"
   ]
  },
  {
   "cell_type": "code",
   "execution_count": 24,
   "metadata": {},
   "outputs": [
    {
     "name": "stdout",
     "output_type": "stream",
     "text": [
      "{'loss': 'hinge', 'max_iter': 20, 'penalty': 'l1'}\n"
     ]
    },
    {
     "data": {
      "text/plain": [
       "0.7971047274372314"
      ]
     },
     "execution_count": 24,
     "metadata": {},
     "output_type": "execute_result"
    }
   ],
   "source": [
    "reg = linear_model.SGDClassifier()\n",
    "distributions = dict(loss=[\"hinge\"], \n",
    "                     penalty=[\"l1\"], \n",
    "                     max_iter=[20])\n",
    "clf = GridSearchCV(reg, distributions)\n",
    "search = clf.fit(X_train, y_train)\n",
    "print(search.best_params_)\n",
    "\n",
    "y_pred = search.predict(X_test)\n",
    "accuracy_score(y_test, y_pred)"
   ]
  },
  {
   "cell_type": "code",
   "execution_count": 25,
   "metadata": {},
   "outputs": [],
   "source": [
    "# uncalibrated \n",
    "y_uncal = search.decision_function(X_test)\n",
    "# calibrated \n",
    "calibrator = CalibratedClassifierCV(search, cv = 3)\n",
    "calibrator.fit(X_test, y_test)\n",
    "y_cal = calibrator.predict_proba(X_test)[:, 1]"
   ]
  },
  {
   "cell_type": "code",
   "execution_count": 26,
   "metadata": {},
   "outputs": [
    {
     "name": "stdout",
     "output_type": "stream",
     "text": [
      "Overall\n",
      "Accuracy: \t 0.7971047274372314\n",
      "Recall: \t 0.001560758082497213\n",
      "Precision: \t 0.5\n",
      "False Negative Rate: \t 0.20257860212621578\n",
      "False Positive Rate: \t 0.0003166704365528161\n",
      "Positive Rate: \t 0.0006333408731056322\n",
      "AUC: \t 0.461216477677515\n",
      "Brier Score: \t 0.16173733422012831\n",
      "\n",
      "Male\n",
      "Accuracy: \t 0.7987290883153936\n",
      "Recall: \t 0.0012903225806451613\n",
      "Precision: \t 0.3333333333333333\n",
      "False Negative Rate: \t 0.20075217222150174\n",
      "False Positive Rate: \t 0.0005187394631046557\n",
      "Positive Rate: \t 0.0007781091946569835\n",
      "AUC: \t 0.47885916090286973\n",
      "Brier Score: \t 0.16059819561036737\n",
      "\n",
      "Female\n",
      "Accuracy: \t 0.7962345421703487\n",
      "Recall: \t 0.0017035775127768314\n",
      "Precision: \t 0.625\n",
      "False Negative Rate: \t 0.2035570376545783\n",
      "False Positive Rate: \t 0.00020842017507294707\n",
      "Positive Rate: \t 0.0005557871335278589\n",
      "AUC: \t 0.4510287547649698\n",
      "Brier Score: \t 0.16234758139394145\n",
      "\n",
      "Scholarship\n",
      "Accuracy: \t 0.763063063063063\n",
      "Recall: \t 0.003787878787878788\n",
      "Precision: \t 1.0\n",
      "False Negative Rate: \t 0.23693693693693693\n",
      "False Positive Rate: \t 0.0\n",
      "Positive Rate: \t 0.0009009009009009009\n",
      "AUC: \t 0.4980069981732216\n",
      "Brier Score: \t 0.18249250354695\n",
      "\n",
      "No Scholarship\n",
      "Accuracy: \t 0.8009052049283379\n",
      "Recall: \t 0.0012635835228708618\n",
      "Precision: \t 0.4166666666666667\n",
      "False Negative Rate: \t 0.19874277093286397\n",
      "False Positive Rate: \t 0.000352024138798089\n",
      "Positive Rate: \t 0.0006034699522252955\n",
      "AUC: \t 0.45769904264667377\n",
      "Brier Score: \t 0.15942018682734255\n",
      "\n"
     ]
    }
   ],
   "source": [
    "evaluate(y_pred, y_cal, \"SGD\", True)"
   ]
  },
  {
   "cell_type": "markdown",
   "metadata": {},
   "source": [
    "## Nearest Neighbors"
   ]
  },
  {
   "cell_type": "code",
   "execution_count": 27,
   "metadata": {},
   "outputs": [
    {
     "name": "stdout",
     "output_type": "stream",
     "text": [
      "{'algorithm': 'kd_tree', 'leaf_size': 20, 'n_neighbors': 8, 'p': 1, 'weights': 'uniform'}\n"
     ]
    },
    {
     "data": {
      "text/plain": [
       "0.7945713639448089"
      ]
     },
     "execution_count": 27,
     "metadata": {},
     "output_type": "execute_result"
    }
   ],
   "source": [
    "from sklearn.neighbors import KNeighborsClassifier\n",
    "neigh = KNeighborsClassifier()\n",
    "distributions = dict(weights = [\"uniform\"], \n",
    "                     algorithm = [\"kd_tree\"], \n",
    "                     n_neighbors = [8], \n",
    "                     leaf_size = [20], \n",
    "                     p = [1])\n",
    "clf = GridSearchCV(neigh, distributions)\n",
    "search = clf.fit(X_train, y_train)\n",
    "print(search.best_params_)\n",
    "\n",
    "y_pred = search.predict(X_test)\n",
    "accuracy_score(y_test, y_pred)"
   ]
  },
  {
   "cell_type": "code",
   "execution_count": 28,
   "metadata": {},
   "outputs": [],
   "source": [
    "# uncalibrated \n",
    "y_uncal = search.predict_proba(X_test)\n",
    "# calibrated \n",
    "calibrator = CalibratedClassifierCV(search, cv = 3)\n",
    "calibrator.fit(X_test, y_test)\n",
    "y_cal = calibrator.predict_proba(X_test)[:, 1]"
   ]
  },
  {
   "cell_type": "code",
   "execution_count": 29,
   "metadata": {},
   "outputs": [
    {
     "name": "stdout",
     "output_type": "stream",
     "text": [
      "Overall\n",
      "Accuracy: \t 0.7945713639448089\n",
      "Recall: \t 0.09921962095875139\n",
      "Precision: \t 0.4704016913319239\n",
      "False Negative Rate: \t 0.18276408052476814\n",
      "False Positive Rate: \t 0.022664555530422983\n",
      "Positive Rate: \t 0.042795747568423435\n",
      "AUC: \t 0.7892058659398146\n",
      "Brier Score: \t 0.14453212900988727\n",
      "\n",
      "Male\n",
      "Accuracy: \t 0.7956166515367656\n",
      "Recall: \t 0.10064516129032258\n",
      "Precision: \t 0.46153846153846156\n",
      "False Negative Rate: \t 0.1807807028919725\n",
      "False Positive Rate: \t 0.023602645571261835\n",
      "Positive Rate: \t 0.043833484632343406\n",
      "AUC: \t 0.7847869794911801\n",
      "Brier Score: \t 0.14429780023787445\n",
      "\n",
      "Female\n",
      "Accuracy: \t 0.7940113936362373\n",
      "Recall: \t 0.09846678023850085\n",
      "Precision: \t 0.4753289473684211\n",
      "False Negative Rate: \t 0.1838265944143393\n",
      "False Positive Rate: \t 0.022162011949423372\n",
      "Positive Rate: \t 0.04223982214811727\n",
      "AUC: \t 0.7915899407605783\n",
      "Brier Score: \t 0.14465766111777878\n",
      "\n",
      "Scholarship\n",
      "Accuracy: \t 0.7662162162162162\n",
      "Recall: \t 0.12878787878787878\n",
      "Precision: \t 0.5354330708661418\n",
      "False Negative Rate: \t 0.2072072072072072\n",
      "False Positive Rate: \t 0.026576576576576576\n",
      "Positive Rate: \t 0.057207207207207206\n",
      "AUC: \t 0.798163371301669\n",
      "Brier Score: \t 0.1611402364090591\n",
      "\n",
      "No Scholarship\n",
      "Accuracy: \t 0.7977369876791551\n",
      "Recall: \t 0.09527419762446297\n",
      "Precision: \t 0.4603174603174603\n",
      "False Negative Rate: \t 0.1800352024138798\n",
      "False Positive Rate: \t 0.02222780990696505\n",
      "Positive Rate: \t 0.04118682423937641\n",
      "AUC: \t 0.7879583250987795\n",
      "Brier Score: \t 0.14267796766082202\n",
      "\n"
     ]
    }
   ],
   "source": [
    "evaluate(y_pred, y_cal, \"kNN\", True)"
   ]
  },
  {
   "cell_type": "markdown",
   "metadata": {},
   "source": [
    "## Naive Bayes"
   ]
  },
  {
   "cell_type": "markdown",
   "metadata": {},
   "source": [
    "### Bernoulli NB"
   ]
  },
  {
   "cell_type": "code",
   "execution_count": 30,
   "metadata": {},
   "outputs": [
    {
     "name": "stdout",
     "output_type": "stream",
     "text": [
      "{'alpha': 0.5}\n"
     ]
    },
    {
     "data": {
      "text/plain": [
       "0.7710925130061073"
      ]
     },
     "execution_count": 30,
     "metadata": {},
     "output_type": "execute_result"
    }
   ],
   "source": [
    "from sklearn.naive_bayes import BernoulliNB\n",
    "\n",
    "bnb = BernoulliNB()\n",
    "distributions = dict(alpha = [0.5])\n",
    "clf = GridSearchCV(bnb, distributions)\n",
    "search = clf.fit(X_train, y_train)\n",
    "print(search.best_params_)\n",
    "\n",
    "y_pred = search.predict(X_test)\n",
    "accuracy_score(y_test, y_pred)"
   ]
  },
  {
   "cell_type": "code",
   "execution_count": 31,
   "metadata": {},
   "outputs": [],
   "source": [
    "# uncalibrated \n",
    "y_uncal = search.predict_proba(X_test)\n",
    "# calibrated \n",
    "calibrator = CalibratedClassifierCV(search, cv = 3)\n",
    "calibrator.fit(X_test, y_test)\n",
    "y_cal = calibrator.predict_proba(X_test)[:, 1]"
   ]
  },
  {
   "cell_type": "code",
   "execution_count": 32,
   "metadata": {},
   "outputs": [
    {
     "name": "stdout",
     "output_type": "stream",
     "text": [
      "Overall\n",
      "Accuracy: \t 0.7710925130061073\n",
      "Recall: \t 0.14983277591973243\n",
      "Precision: \t 0.3501823866597186\n",
      "False Negative Rate: \t 0.17249491065369826\n",
      "False Positive Rate: \t 0.056412576340194524\n",
      "Positive Rate: \t 0.08681293824926488\n",
      "AUC: \t 0.6648714721919577\n",
      "Brier Score: \t 0.15411645179896033\n",
      "\n",
      "Male\n",
      "Accuracy: \t 0.774478018415251\n",
      "Recall: \t 0.13870967741935483\n",
      "Precision: \t 0.3473344103392569\n",
      "False Negative Rate: \t 0.17312929581117883\n",
      "False Positive Rate: \t 0.05239268577357022\n",
      "Positive Rate: \t 0.08027493191544546\n",
      "AUC: \t 0.6699086867967601\n",
      "Brier Score: \t 0.15260145707212036\n",
      "\n",
      "Female\n",
      "Accuracy: \t 0.7692788661942476\n",
      "Recall: \t 0.1557069846678024\n",
      "Precision: \t 0.3515384615384615\n",
      "False Negative Rate: \t 0.17215506461025426\n",
      "False Positive Rate: \t 0.05856606919549812\n",
      "Positive Rate: \t 0.09031540919827706\n",
      "AUC: \t 0.6622309625324447\n",
      "Brier Score: \t 0.15492804859892303\n",
      "\n",
      "Scholarship\n",
      "Accuracy: \t 0.7337837837837838\n",
      "Recall: \t 0.19128787878787878\n",
      "Precision: \t 0.38113207547169814\n",
      "False Negative Rate: \t 0.19234234234234235\n",
      "False Positive Rate: \t 0.07387387387387387\n",
      "Positive Rate: \t 0.11936936936936937\n",
      "AUC: \t 0.6673119716670248\n",
      "Brier Score: \t 0.1716016765310842\n",
      "\n",
      "No Scholarship\n",
      "Accuracy: \t 0.7752577319587629\n",
      "Recall: \t 0.1443012383118524\n",
      "Precision: \t 0.34522370012091896\n",
      "False Negative Rate: \t 0.1702791048529042\n",
      "False Positive Rate: \t 0.054463163188332914\n",
      "Positive Rate: \t 0.08317827508171989\n",
      "AUC: \t 0.6635077237256815\n",
      "Brier Score: \t 0.15216436736821784\n",
      "\n"
     ]
    }
   ],
   "source": [
    "evaluate(y_pred, y_cal, \"Bernoulli NB\", True)"
   ]
  },
  {
   "cell_type": "markdown",
   "metadata": {},
   "source": [
    "### Gaussian NB"
   ]
  },
  {
   "cell_type": "code",
   "execution_count": 33,
   "metadata": {},
   "outputs": [
    {
     "data": {
      "text/plain": [
       "0.4878081881927166"
      ]
     },
     "execution_count": 33,
     "metadata": {},
     "output_type": "execute_result"
    }
   ],
   "source": [
    "from sklearn.naive_bayes import GaussianNB\n",
    "gnb = GaussianNB()\n",
    "y_pred = gnb.fit(X_train_raw, y_train).predict(X_test_raw)\n",
    "accuracy_score(y_test, y_pred)"
   ]
  },
  {
   "cell_type": "code",
   "execution_count": 34,
   "metadata": {},
   "outputs": [],
   "source": [
    "# uncalibrated \n",
    "y_uncal = gnb.predict_proba(X_test)\n",
    "# calibrated \n",
    "calibrator = CalibratedClassifierCV(gnb, cv = 3)\n",
    "calibrator.fit(X_test, y_test)\n",
    "y_cal = calibrator.predict_proba(X_test)[:, 1]"
   ]
  },
  {
   "cell_type": "code",
   "execution_count": 35,
   "metadata": {},
   "outputs": [
    {
     "name": "stdout",
     "output_type": "stream",
     "text": [
      "Overall\n",
      "Accuracy: \t 0.4878081881927166\n",
      "Recall: \t 0.6630992196209587\n",
      "Precision: \t 0.23261634728197106\n",
      "False Negative Rate: \t 0.06835557566161501\n",
      "False Positive Rate: \t 0.4438362361456684\n",
      "Positive Rate: \t 0.578375933046822\n",
      "AUC: \t 0.5919123652178976\n",
      "Brier Score: \t 0.16153578551099235\n",
      "\n",
      "Male\n",
      "Accuracy: \t 0.48151990662689664\n",
      "Recall: \t 0.6567741935483871\n",
      "Precision: \t 0.22702943800178413\n",
      "False Negative Rate: \t 0.06899234859291921\n",
      "False Positive Rate: \t 0.44948774478018416\n",
      "Positive Rate: \t 0.5815069381403191\n",
      "AUC: \t 0.5926374017623867\n",
      "Brier Score: \t 0.16040401859245665\n",
      "\n",
      "Female\n",
      "Accuracy: \t 0.4911768792552452\n",
      "Recall: \t 0.6664395229982965\n",
      "Precision: \t 0.2356342609324178\n",
      "False Negative Rate: \t 0.06801445046547172\n",
      "False Positive Rate: \t 0.44080867027928305\n",
      "Positive Rate: \t 0.5766986244268445\n",
      "AUC: \t 0.5914890849280741\n",
      "Brier Score: \t 0.16214208360108742\n",
      "\n",
      "Scholarship\n",
      "Accuracy: \t 0.43873873873873875\n",
      "Recall: \t 0.7253787878787878\n",
      "Precision: \t 0.2580862533692722\n",
      "False Negative Rate: \t 0.06531531531531531\n",
      "False Positive Rate: \t 0.49594594594594593\n",
      "Positive Rate: \t 0.6684684684684684\n",
      "AUC: \t 0.5921375770112473\n",
      "Brier Score: \t 0.18222885147140522\n",
      "\n",
      "No Scholarship\n",
      "Accuracy: \t 0.4932863967814936\n",
      "Recall: \t 0.6547889815516805\n",
      "Precision: \t 0.22927174586319796\n",
      "False Negative Rate: \t 0.0686949962283128\n",
      "False Positive Rate: \t 0.4380186069901936\n",
      "Positive Rate: \t 0.568317827508172\n",
      "AUC: \t 0.5910543141635465\n",
      "Brier Score: \t 0.15922557145858518\n",
      "\n"
     ]
    }
   ],
   "source": [
    "evaluate(y_pred, y_cal, \"Gaussian NB\", True)"
   ]
  },
  {
   "cell_type": "markdown",
   "metadata": {},
   "source": [
    "## Decision Trees"
   ]
  },
  {
   "cell_type": "code",
   "execution_count": 36,
   "metadata": {},
   "outputs": [
    {
     "name": "stdout",
     "output_type": "stream",
     "text": [
      "{'criterion': 'gini', 'max_depth': 5, 'max_features': 'auto', 'splitter': 'random'}\n"
     ]
    },
    {
     "data": {
      "text/plain": [
       "0.7971047274372314"
      ]
     },
     "execution_count": 36,
     "metadata": {},
     "output_type": "execute_result"
    }
   ],
   "source": [
    "from sklearn import tree\n",
    "dt = tree.DecisionTreeClassifier()\n",
    "distributions = dict(criterion = [\"gini\"], \n",
    "                     splitter = [\"random\"], \n",
    "                     max_depth = [5], \n",
    "                     max_features = [\"auto\"])\n",
    "clf = GridSearchCV(dt, distributions)\n",
    "search = clf.fit(X_train, y_train)\n",
    "print(search.best_params_)\n",
    "\n",
    "y_pred = search.predict(X_test)\n",
    "accuracy_score(y_test, y_pred)"
   ]
  },
  {
   "cell_type": "code",
   "execution_count": 37,
   "metadata": {},
   "outputs": [],
   "source": [
    "# uncalibrated \n",
    "y_uncal = search.predict_proba(X_test)\n",
    "# calibrated \n",
    "calibrator = CalibratedClassifierCV(search, cv = 3)\n",
    "calibrator.fit(X_test, y_test)\n",
    "y_cal = calibrator.predict_proba(X_test)[:, 1]"
   ]
  },
  {
   "cell_type": "code",
   "execution_count": 38,
   "metadata": {},
   "outputs": [
    {
     "name": "stdout",
     "output_type": "stream",
     "text": [
      "Overall\n",
      "Accuracy: \t 0.7971047274372314\n",
      "Recall: \t 0.0\n",
      "Precision: \t 0.0\n",
      "False Negative Rate: \t 0.2028952725627686\n",
      "False Positive Rate: \t 0.0\n",
      "Positive Rate: \t 0.0\n",
      "AUC: \t 0.6393759308680594\n",
      "Brier Score: \t 0.15711109499588718\n",
      "\n",
      "Male\n",
      "Accuracy: \t 0.798988458046946\n",
      "Recall: \t 0.0\n",
      "Precision: \t 0.0\n",
      "False Negative Rate: \t 0.20101154195305407\n",
      "False Positive Rate: \t 0.0\n",
      "Positive Rate: \t 0.0\n",
      "AUC: \t 0.6342866941374201\n",
      "Brier Score: \t 0.156236971479417\n",
      "\n",
      "Female\n",
      "Accuracy: \t 0.7960955953869668\n",
      "Recall: \t 0.0\n",
      "Precision: \t 0.0\n",
      "False Negative Rate: \t 0.20390440461303322\n",
      "False Positive Rate: \t 0.0\n",
      "Positive Rate: \t 0.0\n",
      "AUC: \t 0.6420115237898005\n",
      "Brier Score: \t 0.15757937111340156\n",
      "\n",
      "Scholarship\n",
      "Accuracy: \t 0.7621621621621621\n",
      "Recall: \t 0.0\n",
      "Precision: \t 0.0\n",
      "False Negative Rate: \t 0.23783783783783785\n",
      "False Positive Rate: \t 0.0\n",
      "Positive Rate: \t 0.0\n",
      "AUC: \t 0.6339844589512144\n",
      "Brier Score: \t 0.17663649262039752\n",
      "\n",
      "No Scholarship\n",
      "Accuracy: \t 0.8010057832537089\n",
      "Recall: \t 0.0\n",
      "Precision: \t 0.0\n",
      "False Negative Rate: \t 0.19899421674629117\n",
      "False Positive Rate: \t 0.0\n",
      "Positive Rate: \t 0.0\n",
      "AUC: \t 0.6398514219979293\n",
      "Brier Score: \t 0.15493124170313324\n",
      "\n"
     ]
    }
   ],
   "source": [
    "evaluate(y_pred, y_cal, \"Decision Trees\", True)"
   ]
  },
  {
   "cell_type": "markdown",
   "metadata": {},
   "source": [
    "## Ensemble Methods"
   ]
  },
  {
   "cell_type": "markdown",
   "metadata": {},
   "source": [
    "### Random Forest Classifier"
   ]
  },
  {
   "cell_type": "code",
   "execution_count": 40,
   "metadata": {},
   "outputs": [
    {
     "name": "stdout",
     "output_type": "stream",
     "text": [
      "{'class_weight': 'balanced_subsample', 'criterion': 'entropy', 'max_depth': None, 'max_features': 'auto', 'n_estimators': 10}\n"
     ]
    },
    {
     "data": {
      "text/plain": [
       "0.7831712282289075"
      ]
     },
     "execution_count": 40,
     "metadata": {},
     "output_type": "execute_result"
    }
   ],
   "source": [
    "from sklearn.ensemble import RandomForestClassifier\n",
    "rf = RandomForestClassifier()\n",
    "distributions = dict(n_estimators = [10], \n",
    "                     criterion = [\"entropy\"], \n",
    "                     max_depth = [None], \n",
    "                     max_features = [\"auto\"], \n",
    "                     class_weight = [\"balanced_subsample\"])\n",
    "clf = GridSearchCV(rf, distributions)\n",
    "search = clf.fit(X_train, y_train)\n",
    "print(search.best_params_)\n",
    "\n",
    "y_pred = search.predict(X_test)\n",
    "accuracy_score(y_test, y_pred)"
   ]
  },
  {
   "cell_type": "code",
   "execution_count": 41,
   "metadata": {},
   "outputs": [],
   "source": [
    "# uncalibrated \n",
    "y_uncal = search.predict_proba(X_test)\n",
    "# calibrated \n",
    "calibrator = CalibratedClassifierCV(search, cv = 3)\n",
    "calibrator.fit(X_test, y_test)\n",
    "y_cal = calibrator.predict_proba(X_test)[:, 1]"
   ]
  },
  {
   "cell_type": "code",
   "execution_count": 42,
   "metadata": {},
   "outputs": [
    {
     "name": "stdout",
     "output_type": "stream",
     "text": [
      "Overall\n",
      "Accuracy: \t 0.7831712282289075\n",
      "Recall: \t 0.1930880713489409\n",
      "Precision: \t 0.4245098039215686\n",
      "False Negative Rate: \t 0.16371861569780594\n",
      "False Positive Rate: \t 0.053110156073286584\n",
      "Positive Rate: \t 0.09228681293824927\n",
      "AUC: \t 0.997993741276572\n",
      "Brier Score: \t 0.09255396136547199\n",
      "\n",
      "Male\n",
      "Accuracy: \t 0.7902995720399429\n",
      "Recall: \t 0.20258064516129032\n",
      "Precision: \t 0.45179856115107914\n",
      "False Negative Rate: \t 0.1602904940993386\n",
      "False Positive Rate: \t 0.04940993386071845\n",
      "Positive Rate: \t 0.09013098171443393\n",
      "AUC: \t 0.9980557199030321\n",
      "Brier Score: \t 0.09209011484157929\n",
      "\n",
      "Female\n",
      "Accuracy: \t 0.77935250798944\n",
      "Recall: \t 0.18807495741056218\n",
      "Precision: \t 0.4104089219330855\n",
      "False Negative Rate: \t 0.16555509239961094\n",
      "False Positive Rate: \t 0.05509239961094901\n",
      "Positive Rate: \t 0.09344171182437126\n",
      "AUC: \t 0.9979680166293189\n",
      "Brier Score: \t 0.09280244827291514\n",
      "\n",
      "Scholarship\n",
      "Accuracy: \t 0.7567567567567568\n",
      "Recall: \t 0.20075757575757575\n",
      "Precision: \t 0.4732142857142857\n",
      "False Negative Rate: \t 0.1900900900900901\n",
      "False Positive Rate: \t 0.05315315315315315\n",
      "Positive Rate: \t 0.1009009009009009\n",
      "AUC: \t 0.9988778521025861\n",
      "Brier Score: \t 0.1014187408422303\n",
      "\n",
      "No Scholarship\n",
      "Accuracy: \t 0.7861201910988183\n",
      "Recall: \t 0.19206469547637098\n",
      "Precision: \t 0.4185022026431718\n",
      "False Negative Rate: \t 0.1607744531053558\n",
      "False Positive Rate: \t 0.053105355795826\n",
      "Positive Rate: \t 0.09132511943676137\n",
      "AUC: \t 0.9978857188660571\n",
      "Brier Score: \t 0.09156428017671647\n",
      "\n"
     ]
    }
   ],
   "source": [
    "evaluate(y_pred, y_cal, \"Random Forest\", True)"
   ]
  },
  {
   "cell_type": "markdown",
   "metadata": {},
   "source": [
    "### AdaBoost"
   ]
  },
  {
   "cell_type": "code",
   "execution_count": 43,
   "metadata": {},
   "outputs": [
    {
     "name": "stdout",
     "output_type": "stream",
     "text": [
      "{'algorithm': 'SAMME', 'learning_rate': 0.5, 'n_estimators': 50}\n"
     ]
    },
    {
     "data": {
      "text/plain": [
       "0.7971047274372314"
      ]
     },
     "execution_count": 43,
     "metadata": {},
     "output_type": "execute_result"
    }
   ],
   "source": [
    "from sklearn.ensemble import AdaBoostClassifier\n",
    "ada = AdaBoostClassifier()\n",
    "distributions = dict(n_estimators = [50], \n",
    "                     algorithm = [\"SAMME\"], \n",
    "                     learning_rate = [0.5])\n",
    "clf = GridSearchCV(ada, distributions)\n",
    "search = clf.fit(X_train, y_train)\n",
    "print(search.best_params_)\n",
    "\n",
    "y_pred = search.predict(X_test)\n",
    "accuracy_score(y_test, y_pred)"
   ]
  },
  {
   "cell_type": "code",
   "execution_count": 44,
   "metadata": {},
   "outputs": [],
   "source": [
    "# uncalibrated \n",
    "y_uncal = search.predict_proba(X_test)\n",
    "# calibrated \n",
    "calibrator = CalibratedClassifierCV(search, cv = 3)\n",
    "calibrator.fit(X_test, y_test)\n",
    "y_cal = calibrator.predict_proba(X_test)[:, 1]"
   ]
  },
  {
   "cell_type": "code",
   "execution_count": 45,
   "metadata": {},
   "outputs": [
    {
     "name": "stdout",
     "output_type": "stream",
     "text": [
      "Overall\n",
      "Accuracy: \t 0.7971047274372314\n",
      "Recall: \t 0.0\n",
      "Precision: \t 0.0\n",
      "False Negative Rate: \t 0.2028952725627686\n",
      "False Positive Rate: \t 0.0\n",
      "Positive Rate: \t 0.0\n",
      "AUC: \t 0.7242065998782674\n",
      "Brier Score: \t 0.1458455101691887\n",
      "\n",
      "Male\n",
      "Accuracy: \t 0.798988458046946\n",
      "Recall: \t 0.0\n",
      "Precision: \t 0.0\n",
      "False Negative Rate: \t 0.20101154195305407\n",
      "False Positive Rate: \t 0.0\n",
      "Positive Rate: \t 0.0\n",
      "AUC: \t 0.7245646653507233\n",
      "Brier Score: \t 0.14543161935942214\n",
      "\n",
      "Female\n",
      "Accuracy: \t 0.7960955953869668\n",
      "Recall: \t 0.0\n",
      "Precision: \t 0.0\n",
      "False Negative Rate: \t 0.20390440461303322\n",
      "False Positive Rate: \t 0.0\n",
      "Positive Rate: \t 0.0\n",
      "AUC: \t 0.7244216511188025\n",
      "Brier Score: \t 0.14606723533482088\n",
      "\n",
      "Scholarship\n",
      "Accuracy: \t 0.7621621621621621\n",
      "Recall: \t 0.0\n",
      "Precision: \t 0.0\n",
      "False Negative Rate: \t 0.23783783783783785\n",
      "False Positive Rate: \t 0.0\n",
      "Positive Rate: \t 0.0\n",
      "AUC: \t 0.7194758981660576\n",
      "Brier Score: \t 0.16243477834531356\n",
      "\n",
      "No Scholarship\n",
      "Accuracy: \t 0.8010057832537089\n",
      "Recall: \t 0.0\n",
      "Precision: \t 0.0\n",
      "False Negative Rate: \t 0.19899421674629117\n",
      "False Positive Rate: \t 0.0\n",
      "Positive Rate: \t 0.0\n",
      "AUC: \t 0.7234123082554842\n",
      "Brier Score: \t 0.14399345206755446\n",
      "\n"
     ]
    }
   ],
   "source": [
    "evaluate(y_pred, y_cal, \"AdaBoost\", True)"
   ]
  },
  {
   "cell_type": "markdown",
   "metadata": {},
   "source": [
    "## Neural Network Models"
   ]
  },
  {
   "cell_type": "code",
   "execution_count": 46,
   "metadata": {},
   "outputs": [
    {
     "name": "stdout",
     "output_type": "stream",
     "text": [
      "{'activation': 'logistic', 'alpha': 0.0001, 'batch_size': 'auto', 'early_stopping': True, 'hidden_layer_sizes': (50,), 'learning_rate': 'invscaling', 'max_iter': 100, 'shuffle': False, 'solver': 'sgd', 'validation_fraction': 0.1}\n"
     ]
    },
    {
     "data": {
      "text/plain": [
       "0.7971047274372314"
      ]
     },
     "execution_count": 46,
     "metadata": {},
     "output_type": "execute_result"
    }
   ],
   "source": [
    "from sklearn.neural_network import MLPClassifier\n",
    "\n",
    "nn = MLPClassifier()\n",
    "distributions = dict(hidden_layer_sizes = [(50,)], \n",
    "                     activation = [\"logistic\"], \n",
    "                     solver = [\"sgd\"], \n",
    "                     alpha = [0.0001], \n",
    "                     batch_size = [\"auto\"], \n",
    "                     learning_rate = [\"invscaling\"], \n",
    "                     max_iter = [100], \n",
    "                     shuffle = [False], \n",
    "                     early_stopping = [True], \n",
    "                     validation_fraction = [0.1])\n",
    "clf = GridSearchCV(nn, distributions)\n",
    "search = clf.fit(X_train, y_train)\n",
    "print(search.best_params_)\n",
    "\n",
    "y_pred = search.predict(X_test)\n",
    "accuracy_score(y_test, y_pred)"
   ]
  },
  {
   "cell_type": "code",
   "execution_count": 47,
   "metadata": {},
   "outputs": [],
   "source": [
    "# uncalibrated \n",
    "y_uncal = search.predict_proba(X_test)\n",
    "# calibrated \n",
    "calibrator = CalibratedClassifierCV(search, cv = 3)\n",
    "calibrator.fit(X_test, y_test)\n",
    "y_cal = calibrator.predict_proba(X_test)[:, 1]"
   ]
  },
  {
   "cell_type": "code",
   "execution_count": 48,
   "metadata": {},
   "outputs": [
    {
     "name": "stdout",
     "output_type": "stream",
     "text": [
      "Overall\n",
      "Accuracy: \t 0.7971047274372314\n",
      "Recall: \t 0.0\n",
      "Precision: \t 0.0\n",
      "False Negative Rate: \t 0.2028952725627686\n",
      "False Positive Rate: \t 0.0\n",
      "Positive Rate: \t 0.0\n",
      "AUC: \t 0.5375117714869972\n",
      "Brier Score: \t 0.16150615564522286\n",
      "\n",
      "Male\n",
      "Accuracy: \t 0.798988458046946\n",
      "Recall: \t 0.0\n",
      "Precision: \t 0.0\n",
      "False Negative Rate: \t 0.20101154195305407\n",
      "False Positive Rate: \t 0.0\n",
      "Positive Rate: \t 0.0\n",
      "AUC: \t 0.5390387505170401\n",
      "Brier Score: \t 0.1603910168461969\n",
      "\n",
      "Female\n",
      "Accuracy: \t 0.7960955953869668\n",
      "Recall: \t 0.0\n",
      "Precision: \t 0.0\n",
      "False Negative Rate: \t 0.20390440461303322\n",
      "False Positive Rate: \t 0.0\n",
      "Positive Rate: \t 0.0\n",
      "AUC: \t 0.5371160464989393\n",
      "Brier Score: \t 0.16210354589666714\n",
      "\n",
      "Scholarship\n",
      "Accuracy: \t 0.7621621621621621\n",
      "Recall: \t 0.0\n",
      "Precision: \t 0.0\n",
      "False Negative Rate: \t 0.23783783783783785\n",
      "False Positive Rate: \t 0.0\n",
      "Positive Rate: \t 0.0\n",
      "AUC: \t 0.5163430627193926\n",
      "Brier Score: \t 0.18215918838430137\n",
      "\n",
      "No Scholarship\n",
      "Accuracy: \t 0.8010057832537089\n",
      "Recall: \t 0.0\n",
      "Precision: \t 0.0\n",
      "False Negative Rate: \t 0.19899421674629117\n",
      "False Positive Rate: \t 0.0\n",
      "Positive Rate: \t 0.0\n",
      "AUC: \t 0.5374528202917679\n",
      "Brier Score: \t 0.15920041097935642\n",
      "\n"
     ]
    }
   ],
   "source": [
    "evaluate(y_pred, y_cal, \"Neural Net\", True)"
   ]
  },
  {
   "cell_type": "markdown",
   "metadata": {},
   "source": [
    "## Export Evaluation Metrics to Text File"
   ]
  },
  {
   "cell_type": "code",
   "execution_count": 49,
   "metadata": {},
   "outputs": [
    {
     "name": "stdout",
     "output_type": "stream",
     "text": [
      "{'AdaBoost': {'Female': [0.7960955953869668,\n",
      "                         0.0,\n",
      "                         0.0,\n",
      "                         0.20390440461303322,\n",
      "                         0.0,\n",
      "                         0.0,\n",
      "                         0.7244216511188025,\n",
      "                         0.14606723533482088],\n",
      "              'Male': [0.798988458046946,\n",
      "                       0.0,\n",
      "                       0.0,\n",
      "                       0.20101154195305407,\n",
      "                       0.0,\n",
      "                       0.0,\n",
      "                       0.7245646653507233,\n",
      "                       0.14543161935942214],\n",
      "              'No Scholarship': [0.8010057832537089,\n",
      "                                 0.0,\n",
      "                                 0.0,\n",
      "                                 0.19899421674629117,\n",
      "                                 0.0,\n",
      "                                 0.0,\n",
      "                                 0.7234123082554842,\n",
      "                                 0.14399345206755446],\n",
      "              'Overall': [0.7971047274372314,\n",
      "                          0.0,\n",
      "                          0.0,\n",
      "                          0.2028952725627686,\n",
      "                          0.0,\n",
      "                          0.0,\n",
      "                          0.7242065998782674,\n",
      "                          0.1458455101691887],\n",
      "              'Scholarship': [0.7621621621621621,\n",
      "                              0.0,\n",
      "                              0.0,\n",
      "                              0.23783783783783785,\n",
      "                              0.0,\n",
      "                              0.0,\n",
      "                              0.7194758981660576,\n",
      "                              0.16243477834531356]},\n",
      " 'Bayesian Ridge': {'Female': [0.795539808253439,\n",
      "                               0.005792163543441226,\n",
      "                               0.40476190476190477,\n",
      "                               0.2027233569542865,\n",
      "                               0.001736834792274559,\n",
      "                               0.0029178824510212586,\n",
      "                               0.674248490990693,\n",
      "                               0.19118007494897066],\n",
      "                    'Male': [0.7976916093891843,\n",
      "                             0.001935483870967742,\n",
      "                             0.1875,\n",
      "                             0.20062248735572558,\n",
      "                             0.001685903255090131,\n",
      "                             0.0020749578524186228,\n",
      "                             0.6679170746265531,\n",
      "                             0.1891130584595787],\n",
      "                    'No Scholarship': [0.8003017349761127,\n",
      "                                       0.004043467273186757,\n",
      "                                       0.34782608695652173,\n",
      "                                       0.1981895901433241,\n",
      "                                       0.0015086748805632386,\n",
      "                                       0.0023133014835302994,\n",
      "                                       0.6707658798050921,\n",
      "                                       0.18791639429029278],\n",
      "                    'Overall': [0.7962904320289528,\n",
      "                                0.004459308807134894,\n",
      "                                0.3448275862068966,\n",
      "                                0.2019904998869034,\n",
      "                                0.0017190680841438588,\n",
      "                                0.0026238407600090476,\n",
      "                                0.6722022835609175,\n",
      "                                0.1904590270344852],\n",
      "                    'Scholarship': [0.7603603603603604,\n",
      "                                    0.007575757575757576,\n",
      "                                    0.3333333333333333,\n",
      "                                    0.23603603603603604,\n",
      "                                    0.0036036036036036037,\n",
      "                                    0.005405405405405406,\n",
      "                                    0.6778685570241422,\n",
      "                                    0.21323391537604666]},\n",
      " 'Bernoulli NB': {'Female': [0.7692788661942476,\n",
      "                             0.1557069846678024,\n",
      "                             0.3515384615384615,\n",
      "                             0.17215506461025426,\n",
      "                             0.05856606919549812,\n",
      "                             0.09031540919827706,\n",
      "                             0.6622309625324447,\n",
      "                             0.15492804859892303],\n",
      "                  'Male': [0.774478018415251,\n",
      "                           0.13870967741935483,\n",
      "                           0.3473344103392569,\n",
      "                           0.17312929581117883,\n",
      "                           0.05239268577357022,\n",
      "                           0.08027493191544546,\n",
      "                           0.6699086867967601,\n",
      "                           0.15260145707212036],\n",
      "                  'No Scholarship': [0.7752577319587629,\n",
      "                                     0.1443012383118524,\n",
      "                                     0.34522370012091896,\n",
      "                                     0.1702791048529042,\n",
      "                                     0.054463163188332914,\n",
      "                                     0.08317827508171989,\n",
      "                                     0.6635077237256815,\n",
      "                                     0.15216436736821784],\n",
      "                  'Overall': [0.7710925130061073,\n",
      "                              0.14983277591973243,\n",
      "                              0.3501823866597186,\n",
      "                              0.17249491065369826,\n",
      "                              0.056412576340194524,\n",
      "                              0.08681293824926488,\n",
      "                              0.6648714721919577,\n",
      "                              0.15411645179896033],\n",
      "                  'Scholarship': [0.7337837837837838,\n",
      "                                  0.19128787878787878,\n",
      "                                  0.38113207547169814,\n",
      "                                  0.19234234234234235,\n",
      "                                  0.07387387387387387,\n",
      "                                  0.11936936936936937,\n",
      "                                  0.6673119716670248,\n",
      "                                  0.1716016765310842]},\n",
      " 'Decision Trees': {'Female': [0.7960955953869668,\n",
      "                               0.0,\n",
      "                               0.0,\n",
      "                               0.20390440461303322,\n",
      "                               0.0,\n",
      "                               0.0,\n",
      "                               0.6420115237898005,\n",
      "                               0.15757937111340156],\n",
      "                    'Male': [0.798988458046946,\n",
      "                             0.0,\n",
      "                             0.0,\n",
      "                             0.20101154195305407,\n",
      "                             0.0,\n",
      "                             0.0,\n",
      "                             0.6342866941374201,\n",
      "                             0.156236971479417],\n",
      "                    'No Scholarship': [0.8010057832537089,\n",
      "                                       0.0,\n",
      "                                       0.0,\n",
      "                                       0.19899421674629117,\n",
      "                                       0.0,\n",
      "                                       0.0,\n",
      "                                       0.6398514219979293,\n",
      "                                       0.15493124170313324],\n",
      "                    'Overall': [0.7971047274372314,\n",
      "                                0.0,\n",
      "                                0.0,\n",
      "                                0.2028952725627686,\n",
      "                                0.0,\n",
      "                                0.0,\n",
      "                                0.6393759308680594,\n",
      "                                0.15711109499588718],\n",
      "                    'Scholarship': [0.7621621621621621,\n",
      "                                    0.0,\n",
      "                                    0.0,\n",
      "                                    0.23783783783783785,\n",
      "                                    0.0,\n",
      "                                    0.0,\n",
      "                                    0.6339844589512144,\n",
      "                                    0.17663649262039752]},\n",
      " 'Elastic Net': {'Female': [0.7959566486035848,\n",
      "                            0.00545144804088586,\n",
      "                            0.47058823529411764,\n",
      "                            0.2027928303459775,\n",
      "                            0.0012505210504376823,\n",
      "                            0.0023620953174934,\n",
      "                            0.5,\n",
      "                            0.16233249543226919],\n",
      "                 'Male': [0.7984697185838413,\n",
      "                          0.001935483870967742,\n",
      "                          0.3,\n",
      "                          0.20062248735572558,\n",
      "                          0.0009077940604331475,\n",
      "                          0.0012968486577616392,\n",
      "                          0.5,\n",
      "                          0.16060630543399013],\n",
      "                 'No Scholarship': [0.8009052049283379,\n",
      "                                    0.0037907505686125853,\n",
      "                                    0.46875,\n",
      "                                    0.19823987930600956,\n",
      "                                    0.0008549157656525019,\n",
      "                                    0.0016092532059341213,\n",
      "                                    0.5,\n",
      "                                    0.15940255433879802],\n",
      "                 'Overall': [0.7968332956344718,\n",
      "                             0.00423634336677815,\n",
      "                             0.4318181818181818,\n",
      "                             0.20203573852069667,\n",
      "                             0.001130965844831486,\n",
      "                             0.0019904998869034155,\n",
      "                             0.5,\n",
      "                             0.16173033976265916],\n",
      "                 'Scholarship': [0.7603603603603604,\n",
      "                                 0.007575757575757576,\n",
      "                                 0.3333333333333333,\n",
      "                                 0.23603603603603604,\n",
      "                                 0.0036036036036036037,\n",
      "                                 0.005405405405405406,\n",
      "                                 0.5,\n",
      "                                 0.18258079613810027]},\n",
      " 'Gaussian NB': {'Female': [0.4911768792552452,\n",
      "                            0.6664395229982965,\n",
      "                            0.2356342609324178,\n",
      "                            0.06801445046547172,\n",
      "                            0.44080867027928305,\n",
      "                            0.5766986244268445,\n",
      "                            0.5914890849280741,\n",
      "                            0.16214208360108742],\n",
      "                 'Male': [0.48151990662689664,\n",
      "                          0.6567741935483871,\n",
      "                          0.22702943800178413,\n",
      "                          0.06899234859291921,\n",
      "                          0.44948774478018416,\n",
      "                          0.5815069381403191,\n",
      "                          0.5926374017623867,\n",
      "                          0.16040401859245665],\n",
      "                 'No Scholarship': [0.4932863967814936,\n",
      "                                    0.6547889815516805,\n",
      "                                    0.22927174586319796,\n",
      "                                    0.0686949962283128,\n",
      "                                    0.4380186069901936,\n",
      "                                    0.568317827508172,\n",
      "                                    0.5910543141635465,\n",
      "                                    0.15922557145858518],\n",
      "                 'Overall': [0.4878081881927166,\n",
      "                             0.6630992196209587,\n",
      "                             0.23261634728197106,\n",
      "                             0.06835557566161501,\n",
      "                             0.4438362361456684,\n",
      "                             0.578375933046822,\n",
      "                             0.5919123652178976,\n",
      "                             0.16153578551099235],\n",
      "                 'Scholarship': [0.43873873873873875,\n",
      "                                 0.7253787878787878,\n",
      "                                 0.2580862533692722,\n",
      "                                 0.06531531531531531,\n",
      "                                 0.49594594594594593,\n",
      "                                 0.6684684684684684,\n",
      "                                 0.5921375770112473,\n",
      "                                 0.18222885147140522]},\n",
      " 'LASSO': {'Female': [0.7959566486035848,\n",
      "                      0.00545144804088586,\n",
      "                      0.47058823529411764,\n",
      "                      0.2027928303459775,\n",
      "                      0.0012505210504376823,\n",
      "                      0.0023620953174934,\n",
      "                      0.5,\n",
      "                      0.16233249543226919],\n",
      "           'Male': [0.7984697185838413,\n",
      "                    0.001935483870967742,\n",
      "                    0.3,\n",
      "                    0.20062248735572558,\n",
      "                    0.0009077940604331475,\n",
      "                    0.0012968486577616392,\n",
      "                    0.5,\n",
      "                    0.16060630543399013],\n",
      "           'No Scholarship': [0.8009052049283379,\n",
      "                              0.0037907505686125853,\n",
      "                              0.46875,\n",
      "                              0.19823987930600956,\n",
      "                              0.0008549157656525019,\n",
      "                              0.0016092532059341213,\n",
      "                              0.5,\n",
      "                              0.15940255433879802],\n",
      "           'Overall': [0.7968332956344718,\n",
      "                       0.00423634336677815,\n",
      "                       0.4318181818181818,\n",
      "                       0.20203573852069667,\n",
      "                       0.001130965844831486,\n",
      "                       0.0019904998869034155,\n",
      "                       0.5,\n",
      "                       0.16173033976265916],\n",
      "           'Scholarship': [0.7603603603603604,\n",
      "                           0.007575757575757576,\n",
      "                           0.3333333333333333,\n",
      "                           0.23603603603603604,\n",
      "                           0.0036036036036036037,\n",
      "                           0.005405405405405406,\n",
      "                           0.5,\n",
      "                           0.18258079613810027]},\n",
      " 'Logistic': {'Female': [0.7924135056273447,\n",
      "                         0.022487223168654175,\n",
      "                         0.3567567567567568,\n",
      "                         0.19931916076142836,\n",
      "                         0.0082673336112269,\n",
      "                         0.012852577462831735,\n",
      "                         0.6766216953324296,\n",
      "                         0.15316486884988695],\n",
      "              'Male': [0.7960057061340942,\n",
      "                       0.016129032258064516,\n",
      "                       0.3424657534246575,\n",
      "                       0.19776942030864997,\n",
      "                       0.006224873557255868,\n",
      "                       0.009466995201659967,\n",
      "                       0.6791451429648518,\n",
      "                       0.15115797623045435],\n",
      "              'No Scholarship': [0.7977872768418406,\n",
      "                                 0.018953752843062926,\n",
      "                                 0.35046728971962615,\n",
      "                                 0.1952225295448831,\n",
      "                                 0.006990193613276339,\n",
      "                                 0.010761880814684436,\n",
      "                                 0.6759227729610134,\n",
      "                                 0.15055733322166984],\n",
      "              'Overall': [0.7936665912689437,\n",
      "                          0.020289855072463767,\n",
      "                          0.35271317829457366,\n",
      "                          0.198778556887582,\n",
      "                          0.007554851843474327,\n",
      "                          0.011671567518660936,\n",
      "                          0.6775423944362404,\n",
      "                          0.1524647942519026],\n",
      "              'Scholarship': [0.7567567567567568,\n",
      "                              0.030303030303030304,\n",
      "                              0.36363636363636365,\n",
      "                              0.23063063063063063,\n",
      "                              0.012612612612612612,\n",
      "                              0.01981981981981982,\n",
      "                              0.684778301633355,\n",
      "                              0.16955031793937056]},\n",
      " 'Neural Net': {'Female': [0.7960955953869668,\n",
      "                           0.0,\n",
      "                           0.0,\n",
      "                           0.20390440461303322,\n",
      "                           0.0,\n",
      "                           0.0,\n",
      "                           0.5371160464989393,\n",
      "                           0.16210354589666714],\n",
      "                'Male': [0.798988458046946,\n",
      "                         0.0,\n",
      "                         0.0,\n",
      "                         0.20101154195305407,\n",
      "                         0.0,\n",
      "                         0.0,\n",
      "                         0.5390387505170401,\n",
      "                         0.1603910168461969],\n",
      "                'No Scholarship': [0.8010057832537089,\n",
      "                                   0.0,\n",
      "                                   0.0,\n",
      "                                   0.19899421674629117,\n",
      "                                   0.0,\n",
      "                                   0.0,\n",
      "                                   0.5374528202917679,\n",
      "                                   0.15920041097935642],\n",
      "                'Overall': [0.7971047274372314,\n",
      "                            0.0,\n",
      "                            0.0,\n",
      "                            0.2028952725627686,\n",
      "                            0.0,\n",
      "                            0.0,\n",
      "                            0.5375117714869972,\n",
      "                            0.16150615564522286],\n",
      "                'Scholarship': [0.7621621621621621,\n",
      "                                0.0,\n",
      "                                0.0,\n",
      "                                0.23783783783783785,\n",
      "                                0.0,\n",
      "                                0.0,\n",
      "                                0.5163430627193926,\n",
      "                                0.18215918838430137]},\n",
      " 'OLS': {'Female': [0.7958871752118939,\n",
      "                    0.00545144804088586,\n",
      "                    0.45714285714285713,\n",
      "                    0.2027928303459775,\n",
      "                    0.0013199944421286647,\n",
      "                    0.0024315687091843825,\n",
      "                    0.6743972176635076,\n",
      "                    0.18892547518047378],\n",
      "         'Male': [0.7984697185838413,\n",
      "                  0.001935483870967742,\n",
      "                  0.3,\n",
      "                  0.20062248735572558,\n",
      "                  0.0009077940604331475,\n",
      "                  0.0012968486577616392,\n",
      "                  0.6683515453607762,\n",
      "                  0.18692359646514853],\n",
      "         'No Scholarship': [0.8008549157656525,\n",
      "                            0.0037907505686125853,\n",
      "                            0.45454545454545453,\n",
      "                            0.19823987930600956,\n",
      "                            0.0009052049283379431,\n",
      "                            0.0016595423686195626,\n",
      "                            0.6709708234058571,\n",
      "                            0.18574493572831757],\n",
      "         'Overall': [0.7967880570006786,\n",
      "                     0.00423634336677815,\n",
      "                     0.4222222222222222,\n",
      "                     0.20203573852069667,\n",
      "                     0.0011762044786247454,\n",
      "                     0.002035738520696675,\n",
      "                     0.6724352267680007,\n",
      "                     0.18822714960825607],\n",
      "         'Scholarship': [0.7603603603603604,\n",
      "                         0.007575757575757576,\n",
      "                         0.3333333333333333,\n",
      "                         0.23603603603603604,\n",
      "                         0.0036036036036036037,\n",
      "                         0.005405405405405406,\n",
      "                         0.6784080834945196,\n",
      "                         0.21046085366347086]},\n",
      " 'Random Forest': {'Female': [0.77935250798944,\n",
      "                              0.18807495741056218,\n",
      "                              0.4104089219330855,\n",
      "                              0.16555509239961094,\n",
      "                              0.05509239961094901,\n",
      "                              0.09344171182437126,\n",
      "                              0.9979680166293189,\n",
      "                              0.09280244827291514],\n",
      "                   'Male': [0.7902995720399429,\n",
      "                            0.20258064516129032,\n",
      "                            0.45179856115107914,\n",
      "                            0.1602904940993386,\n",
      "                            0.04940993386071845,\n",
      "                            0.09013098171443393,\n",
      "                            0.9980557199030321,\n",
      "                            0.09209011484157929],\n",
      "                   'No Scholarship': [0.7861201910988183,\n",
      "                                      0.19206469547637098,\n",
      "                                      0.4185022026431718,\n",
      "                                      0.1607744531053558,\n",
      "                                      0.053105355795826,\n",
      "                                      0.09132511943676137,\n",
      "                                      0.9978857188660571,\n",
      "                                      0.09156428017671647],\n",
      "                   'Overall': [0.7831712282289075,\n",
      "                               0.1930880713489409,\n",
      "                               0.4245098039215686,\n",
      "                               0.16371861569780594,\n",
      "                               0.053110156073286584,\n",
      "                               0.09228681293824927,\n",
      "                               0.997993741276572,\n",
      "                               0.09255396136547199],\n",
      "                   'Scholarship': [0.7567567567567568,\n",
      "                                   0.20075757575757575,\n",
      "                                   0.4732142857142857,\n",
      "                                   0.1900900900900901,\n",
      "                                   0.05315315315315315,\n",
      "                                   0.1009009009009009,\n",
      "                                   0.9988778521025861,\n",
      "                                   0.1014187408422303]},\n",
      " 'Ridge Regression': {'Female': [0.7959566486035848,\n",
      "                                 0.00545144804088586,\n",
      "                                 0.47058823529411764,\n",
      "                                 0.2027928303459775,\n",
      "                                 0.0012505210504376823,\n",
      "                                 0.0023620953174934,\n",
      "                                 0.6743297524854556,\n",
      "                                 0.18900856482398176],\n",
      "                      'Male': [0.7984697185838413,\n",
      "                               0.001935483870967742,\n",
      "                               0.3,\n",
      "                               0.20062248735572558,\n",
      "                               0.0009077940604331475,\n",
      "                               0.0012968486577616392,\n",
      "                               0.6682586614028934,\n",
      "                               0.18701267606435648],\n",
      "                      'No Scholarship': [0.8009052049283379,\n",
      "                                         0.0037907505686125853,\n",
      "                                         0.46875,\n",
      "                                         0.19823987930600956,\n",
      "                                         0.0008549157656525019,\n",
      "                                         0.0016092532059341213,\n",
      "                                         0.6708894139752211,\n",
      "                                         0.1858312692706239],\n",
      "                      'Overall': [0.7968332956344718,\n",
      "                                  0.00423634336677815,\n",
      "                                  0.4318181818181818,\n",
      "                                  0.20203573852069667,\n",
      "                                  0.001130965844831486,\n",
      "                                  0.0019904998869034155,\n",
      "                                  0.6723599790954082,\n",
      "                                  0.1883123287585906],\n",
      "                      'Scholarship': [0.7603603603603604,\n",
      "                                      0.007575757575757576,\n",
      "                                      0.3333333333333333,\n",
      "                                      0.23603603603603604,\n",
      "                                      0.0036036036036036037,\n",
      "                                      0.005405405405405406,\n",
      "                                      0.6784147995916612,\n",
      "                                      0.21053569268571626]},\n",
      " 'SGD': {'Female': [0.7962345421703487,\n",
      "                    0.0017035775127768314,\n",
      "                    0.625,\n",
      "                    0.2035570376545783,\n",
      "                    0.00020842017507294707,\n",
      "                    0.0005557871335278589,\n",
      "                    0.4510287547649698,\n",
      "                    0.16234758139394145],\n",
      "         'Male': [0.7987290883153936,\n",
      "                  0.0012903225806451613,\n",
      "                  0.3333333333333333,\n",
      "                  0.20075217222150174,\n",
      "                  0.0005187394631046557,\n",
      "                  0.0007781091946569835,\n",
      "                  0.47885916090286973,\n",
      "                  0.16059819561036737],\n",
      "         'No Scholarship': [0.8009052049283379,\n",
      "                            0.0012635835228708618,\n",
      "                            0.4166666666666667,\n",
      "                            0.19874277093286397,\n",
      "                            0.000352024138798089,\n",
      "                            0.0006034699522252955,\n",
      "                            0.45769904264667377,\n",
      "                            0.15942018682734255],\n",
      "         'Overall': [0.7971047274372314,\n",
      "                     0.001560758082497213,\n",
      "                     0.5,\n",
      "                     0.20257860212621578,\n",
      "                     0.0003166704365528161,\n",
      "                     0.0006333408731056322,\n",
      "                     0.461216477677515,\n",
      "                     0.16173733422012831],\n",
      "         'Scholarship': [0.763063063063063,\n",
      "                         0.003787878787878788,\n",
      "                         1.0,\n",
      "                         0.23693693693693693,\n",
      "                         0.0,\n",
      "                         0.0009009009009009009,\n",
      "                         0.4980069981732216,\n",
      "                         0.18249250354695]},\n",
      " 'SVM': {'Female': [0.7947756009448381,\n",
      "                    0.0006814310051107325,\n",
      "                    0.08695652173913043,\n",
      "                    0.20376545782965125,\n",
      "                    0.0014589412255106293,\n",
      "                    0.0015978880088925941,\n",
      "                    0.580097311606315,\n",
      "                    0.16141441680139487],\n",
      "         'Male': [0.7988587731811697,\n",
      "                  0.0006451612903225806,\n",
      "                  0.3333333333333333,\n",
      "                  0.2008818570872779,\n",
      "                  0.00025936973155232785,\n",
      "                  0.00038905459732849174,\n",
      "                  0.6001246655601573,\n",
      "                  0.15965902948057165],\n",
      "         'No Scholarship': [0.8000502891626854,\n",
      "                            0.000758150113722517,\n",
      "                            0.12,\n",
      "                            0.19884334925823485,\n",
      "                            0.0011063615790797084,\n",
      "                            0.001257229067136032,\n",
      "                            0.5820473546805964,\n",
      "                            0.15846814630609304],\n",
      "         'Overall': [0.7961999547613662,\n",
      "                     0.0006688963210702341,\n",
      "                     0.11538461538461539,\n",
      "                     0.2027595566613888,\n",
      "                     0.001040488577244967,\n",
      "                     0.0011762044786247454,\n",
      "                     0.5812167623950183,\n",
      "                     0.16080207608070418],\n",
      "         'Scholarship': [0.7617117117117117,\n",
      "                         0.0,\n",
      "                         0.0,\n",
      "                         0.23783783783783785,\n",
      "                         0.00045045045045045046,\n",
      "                         0.00045045045045045046,\n",
      "                         0.5764017614084103,\n",
      "                         0.18170756867896654]},\n",
      " 'kNN': {'Female': [0.7940113936362373,\n",
      "                    0.09846678023850085,\n",
      "                    0.4753289473684211,\n",
      "                    0.1838265944143393,\n",
      "                    0.022162011949423372,\n",
      "                    0.04223982214811727,\n",
      "                    0.7915899407605783,\n",
      "                    0.14465766111777878],\n",
      "         'Male': [0.7956166515367656,\n",
      "                  0.10064516129032258,\n",
      "                  0.46153846153846156,\n",
      "                  0.1807807028919725,\n",
      "                  0.023602645571261835,\n",
      "                  0.043833484632343406,\n",
      "                  0.7847869794911801,\n",
      "                  0.14429780023787445],\n",
      "         'No Scholarship': [0.7977369876791551,\n",
      "                            0.09527419762446297,\n",
      "                            0.4603174603174603,\n",
      "                            0.1800352024138798,\n",
      "                            0.02222780990696505,\n",
      "                            0.04118682423937641,\n",
      "                            0.7879583250987795,\n",
      "                            0.14267796766082202],\n",
      "         'Overall': [0.7945713639448089,\n",
      "                     0.09921962095875139,\n",
      "                     0.4704016913319239,\n",
      "                     0.18276408052476814,\n",
      "                     0.022664555530422983,\n",
      "                     0.042795747568423435,\n",
      "                     0.7892058659398146,\n",
      "                     0.14453212900988727],\n",
      "         'Scholarship': [0.7662162162162162,\n",
      "                         0.12878787878787878,\n",
      "                         0.5354330708661418,\n",
      "                         0.2072072072072072,\n",
      "                         0.026576576576576576,\n",
      "                         0.057207207207207206,\n",
      "                         0.798163371301669,\n",
      "                         0.1611402364090591]}}\n"
     ]
    }
   ],
   "source": [
    "import pprint\n",
    "\n",
    "pprint.pprint(evaluation_stats)"
   ]
  },
  {
   "cell_type": "code",
   "execution_count": 50,
   "metadata": {},
   "outputs": [],
   "source": [
    "f = open(\"evaluation_stats.txt\",\"w\")\n",
    "f.write( str(evaluation_stats) )\n",
    "f.close()"
   ]
  },
  {
   "cell_type": "markdown",
   "metadata": {},
   "source": [
    "## Testing Statistical Significance "
   ]
  },
  {
   "cell_type": "code",
   "execution_count": 51,
   "metadata": {},
   "outputs": [
    {
     "data": {
      "text/plain": [
       "\"\\nfrom scipy import stats \\nprint(evaluation_stats)\\nprint(len(evaluation_stats))\\nprint(evaluation_stats.keys())\\n# accuracy, recall, precision, false negative, false positive, positive, AUC, Brier \\nfor model in evaluation_stats.keys():\\n    print(model)\\n    # statistical significace in terms of gender\\n    print(evaluation_stats[model]['Male'])\\n    print(evaluation_stats[model]['Female'])\\n    # accuracy\\n\\n    # statistical significane in terms of scholarship \\n    print(evaluation_stats[model]['Scholarship'])\\n    print(evaluation_stats[model]['No Scholarship'])\\n\""
      ]
     },
     "execution_count": 51,
     "metadata": {},
     "output_type": "execute_result"
    }
   ],
   "source": [
    "'''\n",
    "from scipy import stats \n",
    "print(evaluation_stats)\n",
    "print(len(evaluation_stats))\n",
    "print(evaluation_stats.keys())\n",
    "# accuracy, recall, precision, false negative, false positive, positive, AUC, Brier \n",
    "for model in evaluation_stats.keys():\n",
    "    print(model)\n",
    "    # statistical significace in terms of gender\n",
    "    print(evaluation_stats[model]['Male'])\n",
    "    print(evaluation_stats[model]['Female'])\n",
    "    # accuracy\n",
    "\n",
    "    # statistical significane in terms of scholarship \n",
    "    print(evaluation_stats[model]['Scholarship'])\n",
    "    print(evaluation_stats[model]['No Scholarship'])\n",
    "'''"
   ]
  },
  {
   "cell_type": "markdown",
   "metadata": {},
   "source": [
    "## Exporting a Dataset to use in Simulation "
   ]
  },
  {
   "cell_type": "code",
   "execution_count": 52,
   "metadata": {},
   "outputs": [],
   "source": [
    "# the data set used for the simulation will include patients from both the testing and training set \n",
    "# features include patient gender, scholarship, show probability predicted from the ML algorithm of choice, \n",
    "# and whether the patient actually shows up for their appointment (1 for show, 0 for no-show)\n",
    "\n",
    "# selected ML algorithm: Neural network (UPDATE)\n",
    "y_train_pred = search.predict(X_train)\n",
    "\n",
    "y_pred = search.predict(X_test)\n",
    "\n",
    "simulation_dataset = []\n",
    "\n",
    "for i in range(len(y_train_pred)):\n",
    "    row = []\n",
    "    # add gender\n",
    "    row.append(X_train_raw[i][0])\n",
    "    # add scholarship\n",
    "    row.append(X_train_raw[i][2])\n",
    "    # add predicted show probaiblity \n",
    "    row.append(1 - y_train_pred[i])\n",
    "    # add whether the patient actually showed up \n",
    "    row.append(1 - y_train[i])\n",
    "    simulation_dataset.append(row)\n",
    "\n",
    "for i in range(len(y_cal)):\n",
    "    row = []\n",
    "    # add gender\n",
    "    row.append(X_test_raw[i][0])\n",
    "    # add scholarship\n",
    "    row.append(X_test_raw[i][2])\n",
    "    # add predicted show probaiblity \n",
    "    row.append(1 - y_cal[i])\n",
    "    # add whether the patient actually showed up \n",
    "    row.append(1 - y_test[i])\n",
    "    simulation_dataset.append(row)\n"
   ]
  },
  {
   "cell_type": "code",
   "execution_count": 53,
   "metadata": {},
   "outputs": [],
   "source": [
    "np.save('simulation_dataset.npy', simulation_dataset)"
   ]
  },
  {
   "cell_type": "code",
   "execution_count": null,
   "metadata": {},
   "outputs": [],
   "source": []
  }
 ],
 "metadata": {
  "kernelspec": {
   "display_name": "Python 3",
   "language": "python",
   "name": "python3"
  },
  "language_info": {
   "codemirror_mode": {
    "name": "ipython",
    "version": 3
   },
   "file_extension": ".py",
   "mimetype": "text/x-python",
   "name": "python",
   "nbconvert_exporter": "python",
   "pygments_lexer": "ipython3",
   "version": "3.6.5"
  }
 },
 "nbformat": 4,
 "nbformat_minor": 2
}
